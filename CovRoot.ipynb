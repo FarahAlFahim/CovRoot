{
  "metadata": {
    "kernelspec": {
      "display_name": "Python 3",
      "name": "python3"
    },
    "language_info": {
      "pygments_lexer": "ipython3",
      "nbconvert_exporter": "python",
      "version": "3.6.4",
      "file_extension": ".py",
      "codemirror_mode": {
        "name": "ipython",
        "version": 3
      },
      "name": "python",
      "mimetype": "text/x-python"
    },
    "colab": {
      "provenance": [],
      "gpuType": "T4"
    },
    "accelerator": "GPU"
  },
  "nbformat_minor": 0,
  "nbformat": 4,
  "cells": [
    {
      "cell_type": "code",
      "source": [
        "# Change to dataset path\n",
        "# Find the dataset here: https://www.kaggle.com/datasets/jamilurrahman/covrecker2/data"
      ],
      "metadata": {
        "id": "SZjn8cgGg7yt"
      },
      "execution_count": null,
      "outputs": []
    },
    {
      "cell_type": "code",
      "source": [
        "import tensorflow as tf\n",
        "from tensorflow import keras\n",
        "from tensorflow.keras import layers, models\n",
        "from keras.layers import Conv2D, MaxPooling2D,GlobalAveragePooling2D\n",
        "from keras.layers import Activation, Dropout, BatchNormalization, Flatten, Dense, AvgPool2D,MaxPool2D, GaussianNoise\n",
        "from tensorflow.keras import Sequential, Model\n",
        "from tensorflow.keras.callbacks import ModelCheckpoint, EarlyStopping, ReduceLROnPlateau\n",
        "from tensorflow.keras.optimizers import Adam\n",
        "import os\n",
        "import matplotlib.pyplot as plt\n",
        "import numpy as np\n",
        "from sklearn.metrics import confusion_matrix, plot_confusion_matrix\n",
        "import matplotlib.pyplot as plt\n",
        "import pandas as pd\n",
        "from tensorflow.keras.initializers import glorot_uniform\n",
        "from tensorflow.keras.applications import EfficientNetB4, InceptionV3, MobileNetV2, ResNet50, VGG19, VGG16, Xception"
      ],
      "metadata": {
        "_uuid": "8f2839f25d086af736a60e9eeb907d3b93b6e0e5",
        "_cell_guid": "b1076dfc-b9ad-4769-8c92-a6c4dae69d19",
        "execution": {
          "iopub.status.busy": "2021-07-13T12:14:24.313247Z",
          "iopub.execute_input": "2021-07-13T12:14:24.313686Z",
          "iopub.status.idle": "2021-07-13T12:14:31.755883Z",
          "shell.execute_reply.started": "2021-07-13T12:14:24.313582Z",
          "shell.execute_reply": "2021-07-13T12:14:31.754911Z"
        },
        "trusted": true,
        "id": "SwT1Guafgxhp"
      },
      "execution_count": 2,
      "outputs": []
    },
    {
      "cell_type": "code",
      "source": [
        "shape = 350\n",
        "epoch = 50\n",
        "train_step = 10\n",
        "val_step = int(train_step*0.6)\n",
        "lr = 0.001\n",
        "split = 0.2\n",
        "batch = 48"
      ],
      "metadata": {
        "execution": {
          "iopub.status.busy": "2021-07-13T12:14:31.757941Z",
          "iopub.execute_input": "2021-07-13T12:14:31.758427Z",
          "iopub.status.idle": "2021-07-13T12:14:31.764114Z",
          "shell.execute_reply.started": "2021-07-13T12:14:31.758381Z",
          "shell.execute_reply": "2021-07-13T12:14:31.762636Z"
        },
        "trusted": true,
        "id": "JROnGgN8gxhp"
      },
      "execution_count": null,
      "outputs": []
    },
    {
      "cell_type": "code",
      "source": [
        "def generate_data(df, data_dir):\n",
        "    d = df.sample(frac=1).reset_index(drop=True)\n",
        "    train_datagen = keras.preprocessing.image.ImageDataGenerator(\n",
        "#                             horizontal_flip=True,\n",
        "#                             vertical_flip=True,\n",
        "#                             rotation_range=20,\n",
        "#                             shear_range=20,\n",
        "                            zoom_range=0.2,\n",
        "#                             height_shift_range=0.3,\n",
        "#                             width_shift_range=0.3,\n",
        "                            validation_split=0.2\n",
        "                        )\n",
        "\n",
        "    train_imagegen = train_datagen.flow_from_dataframe(\n",
        "                            d,\n",
        "                            directory=data_dir,\n",
        "                            x_col='path',\n",
        "                            y_col='labels',\n",
        "                            subset='training',\n",
        "                            target_size=(shape, shape),\n",
        "                            batch_size = 48,\n",
        "#                             validate_filenames=False\n",
        "                        )\n",
        "    valid_datagen = keras.preprocessing.image.ImageDataGenerator(validation_split=0.2)\n",
        "\n",
        "    valid_imagegen = valid_datagen.flow_from_dataframe(\n",
        "                            d,\n",
        "                            directory=data_dir,\n",
        "                            x_col='path',\n",
        "                            y_col='labels',\n",
        "                            subset='validation',\n",
        "                            target_size=(shape, shape),\n",
        "                            batch_size = 32,\n",
        "#                             validate_filenames=False\n",
        "                        )\n",
        "    return train_imagegen, valid_imagegen"
      ],
      "metadata": {
        "execution": {
          "iopub.status.busy": "2021-07-13T12:14:35.124164Z",
          "iopub.execute_input": "2021-07-13T12:14:35.124599Z",
          "iopub.status.idle": "2021-07-13T12:14:35.133155Z",
          "shell.execute_reply.started": "2021-07-13T12:14:35.12455Z",
          "shell.execute_reply": "2021-07-13T12:14:35.131955Z"
        },
        "trusted": true,
        "id": "3h67SioVgxhq"
      },
      "execution_count": null,
      "outputs": []
    },
    {
      "cell_type": "code",
      "source": [
        "def relu6(x):\n",
        "    return min(max(0, x), 6)"
      ],
      "metadata": {
        "trusted": true,
        "id": "_mOYSd5fgxhq"
      },
      "execution_count": null,
      "outputs": []
    },
    {
      "cell_type": "code",
      "source": [
        "def mb_block(x, expand=64, squeeze=16, strides=1, bneck_depth=3, se=False):\n",
        "\n",
        "    m = tf.keras.layers.Conv2D(expand, (1,1), strides=1)(x)\n",
        "    m = tf.keras.layers.BatchNormalization()(m)\n",
        "    m = layers.LeakyReLU()(m)\n",
        "    m = tf.keras.layers.DepthwiseConv2D(bneck_depth, padding='same', strides=strides)(m)\n",
        "    m = tf.keras.layers.BatchNormalization()(m)\n",
        "    m = layers.LeakyReLU()(m)\n",
        "    if se:\n",
        "        m = squeeze_excite_block(m, ratio=4)\n",
        "    m = tf.keras.layers.Conv2D(squeeze, (1,1), strides=1, padding='same')(m)\n",
        "    m = tf.keras.layers.BatchNormalization()(m)\n",
        "\n",
        "    if (\n",
        "      # stride check enforces that we don't add residuals when spatial\n",
        "      # dimensions are None\n",
        "        strides == 1 and\n",
        "        # Depth matches\n",
        "        m.get_shape().as_list()[3] == x.get_shape().as_list()[3]\n",
        "      ):\n",
        "        m = tf.keras.layers.Add()([m, x])\n",
        "\n",
        "    return m\n",
        "\n"
      ],
      "metadata": {
        "execution": {
          "iopub.status.busy": "2021-07-13T11:33:38.171188Z",
          "iopub.execute_input": "2021-07-13T11:33:38.171556Z",
          "iopub.status.idle": "2021-07-13T11:33:38.182341Z",
          "shell.execute_reply.started": "2021-07-13T11:33:38.17152Z",
          "shell.execute_reply": "2021-07-13T11:33:38.181406Z"
        },
        "trusted": true,
        "id": "Uvwlp_-Mgxhr"
      },
      "execution_count": null,
      "outputs": []
    },
    {
      "cell_type": "code",
      "source": [
        "def bloc(top, num_filter):\n",
        "    x = Conv2D(num_filter, (3,3), padding='same')(top)\n",
        "    x = layers.LeakyReLU()(x)\n",
        "    x = Conv2D(num_filter*2, (3,3), padding='same')(x)\n",
        "    x = layers.LeakyReLU()(x)\n",
        "    x = tf.keras.layers.DepthwiseConv2D(3, padding='same')(x)\n",
        "    x = layers.LeakyReLU()(x)\n",
        "    x = Conv2D(num_filter*2, (3,3), padding='same')(x)\n",
        "    x = layers.LeakyReLU()(x)\n",
        "    x = Conv2D(num_filter, (3,3), padding='same')(x)\n",
        "    x = layers.LeakyReLU()(x)\n",
        "\n",
        "    x = tf.keras.layers.Add()([x, top])\n",
        "\n",
        "    return x"
      ],
      "metadata": {
        "execution": {
          "iopub.status.busy": "2021-07-13T12:24:37.897933Z",
          "iopub.execute_input": "2021-07-13T12:24:37.898288Z",
          "iopub.status.idle": "2021-07-13T12:24:37.908917Z",
          "shell.execute_reply.started": "2021-07-13T12:24:37.898256Z",
          "shell.execute_reply": "2021-07-13T12:24:37.907417Z"
        },
        "trusted": true,
        "id": "2C1oTx9kgxhr"
      },
      "execution_count": null,
      "outputs": []
    },
    {
      "cell_type": "code",
      "source": [
        "def create_model(count):\n",
        "    inputs = keras.Input(shape=(shape, shape, 3))\n",
        "    x = layers.Conv2D(16, 3, activation='relu', padding='same')(inputs)\n",
        "    x = layers.Conv2D(32, 3, activation='relu', padding='same')(x)\n",
        "    x = BatchNormalization()(x)\n",
        "    x = layers.MaxPooling2D(2)(x)\n",
        "    x = bloc(x,32)\n",
        "    x = layers.MaxPooling2D(2)(x)\n",
        "    x = bloc(x,32)\n",
        "    x = layers.AvgPool2D(2)(x)\n",
        "    x = bloc(x,32)\n",
        "    x = layers.AvgPool2D(2)(x)\n",
        "    x = bloc(x,32)\n",
        "    x = layers.MaxPooling2D(2)(x)\n",
        "    x = bloc(x,32)\n",
        "    x = layers.MaxPooling2D(2)(x)\n",
        "    x = BatchNormalization()(x)\n",
        "    x = layers.Conv2D(32, 3, activation='relu', padding='same')(x)\n",
        "    x = layers.Conv2D(16, 3, activation='relu', padding='same')(x)\n",
        "\n",
        "    x = layers.Flatten()(x)\n",
        "    x = layers.Dense(512)(x)\n",
        "    x = layers.LeakyReLU()(x)\n",
        "    x = layers.Dense(512)(x)\n",
        "    x = layers.LeakyReLU()(x)\n",
        "    x = layers.Dropout(0.5)(x)\n",
        "\n",
        "    outputs = layers.Dense(count, activation='sigmoid')(x)\n",
        "\n",
        "    model = keras.Model(inputs, outputs)\n",
        "\n",
        "    model.compile(\n",
        "        loss='categorical_crossentropy',\n",
        "#             loss='sparse_categorical_crossentropy',\n",
        "            optimizer='adam',\n",
        "            metrics=['acc'])\n",
        "    model.summary()\n",
        "\n",
        "    return model"
      ],
      "metadata": {
        "execution": {
          "iopub.status.busy": "2021-07-13T12:25:13.791151Z",
          "iopub.execute_input": "2021-07-13T12:25:13.79159Z",
          "iopub.status.idle": "2021-07-13T12:25:13.805109Z",
          "shell.execute_reply.started": "2021-07-13T12:25:13.791556Z",
          "shell.execute_reply": "2021-07-13T12:25:13.802809Z"
        },
        "trusted": true,
        "id": "U7NmmKdAgxhs"
      },
      "execution_count": null,
      "outputs": []
    },
    {
      "cell_type": "code",
      "source": [
        "model = create_model(2)"
      ],
      "metadata": {
        "execution": {
          "iopub.status.busy": "2021-07-13T12:25:29.297582Z",
          "iopub.execute_input": "2021-07-13T12:25:29.298084Z",
          "iopub.status.idle": "2021-07-13T12:25:29.747046Z",
          "shell.execute_reply.started": "2021-07-13T12:25:29.298051Z",
          "shell.execute_reply": "2021-07-13T12:25:29.746083Z"
        },
        "trusted": true,
        "id": "Ph0Lp25Mgxhs"
      },
      "execution_count": null,
      "outputs": []
    },
    {
      "cell_type": "code",
      "source": [
        "# Change to actual dataset path\n",
        "# Find the dataset here: https://www.kaggle.com/datasets/jamilurrahman/covrecker2/data\n",
        "\n",
        "DIR_TARIN_PATH = '../input/covrecker2/new_dataset/train'\n",
        "cov = []\n",
        "vir = []\n",
        "bac = []\n",
        "nor = []\n",
        "\n",
        "for x in os.listdir(os.path.join(DIR_TARIN_PATH)):\n",
        "    if('BACTERIA' in x):\n",
        "        bac.append(x)\n",
        "    elif ('VIRAL' in x):\n",
        "        vir.append(x)\n",
        "    elif ('COVID' in x):\n",
        "        cov.append(x)\n",
        "    else:\n",
        "        nor.append(x)\n",
        "\n",
        "master = []\n",
        "for x in range(len(cov)):\n",
        "    if x <= 428:\n",
        "        master.append(cov[x])\n",
        "\n",
        "for x in range(len(vir)):\n",
        "    if x <= 510:\n",
        "        master.append(vir[x])\n",
        "\n",
        "for x in range(len(bac)):\n",
        "    if x <= 700:\n",
        "        master.append(bac[x])\n",
        "\n",
        "for x in range(len(nor)):\n",
        "    if x <= 460:\n",
        "        master.append(nor[x])\n",
        "labels = []\n",
        "for x in master:\n",
        "    if('BACTERIA' in x):\n",
        "        labels.append('PNEUMINIA_BACTERIA')\n",
        "    elif ('VIRAL' in x):\n",
        "        labels.append('PNEUMINIA_VIRAL')\n",
        "    elif ('COVID' in x):\n",
        "        labels.append('COVID')\n",
        "    else:\n",
        "        labels.append('NORMAL')\n",
        "data = {\n",
        "    'path': master,\n",
        "    'labels': labels\n",
        "}\n",
        "\n",
        "df = pd.DataFrame(data)\n",
        "csv = df.to_csv('4_CLASS.csv')"
      ],
      "metadata": {
        "execution": {
          "iopub.status.busy": "2021-07-13T12:15:28.755951Z",
          "iopub.execute_input": "2021-07-13T12:15:28.756361Z",
          "iopub.status.idle": "2021-07-13T12:15:29.75342Z",
          "shell.execute_reply.started": "2021-07-13T12:15:28.756325Z",
          "shell.execute_reply": "2021-07-13T12:15:29.752471Z"
        },
        "trusted": true,
        "id": "QxVo6O1Ggxhs"
      },
      "execution_count": null,
      "outputs": []
    },
    {
      "cell_type": "code",
      "source": [],
      "metadata": {
        "id": "zJt-lAjZgxht"
      },
      "execution_count": null,
      "outputs": []
    },
    {
      "cell_type": "code",
      "source": [
        "def train_model(model, train, val, types):\n",
        "    early_stop = EarlyStopping(monitor = 'val_loss', min_delta = 0.001,\n",
        "                           patience = 7, mode = 'min',\n",
        "                           restore_best_weights = True)\n",
        "\n",
        "    reduce_lr = ReduceLROnPlateau(monitor = 'val_loss', factor = 0.2,\n",
        "                                  patience = 3, min_delta = 0.001,\n",
        "                                 )\n",
        "    checkpoint = ModelCheckpoint(\n",
        "        os.path.join('models/model-{}.h5'.format(types)), monitor='val_loss', verbose=0, save_best_only=True,\n",
        "    )\n",
        "\n",
        "    history = model.fit(\n",
        "        train,\n",
        "        validation_data = val,\n",
        "        epochs = epoch,\n",
        "#         steps_per_epoch = 50,\n",
        "        shuffle=True,\n",
        "        workers = 4,\n",
        "        use_multiprocessing=True,\n",
        "        callbacks = [\n",
        "#                      early_stop,\n",
        "                     reduce_lr,\n",
        "                     checkpoint\n",
        "                    ],\n",
        "    )\n",
        "\n",
        "    return history"
      ],
      "metadata": {
        "execution": {
          "iopub.status.busy": "2021-07-13T12:15:31.883195Z",
          "iopub.execute_input": "2021-07-13T12:15:31.883624Z",
          "iopub.status.idle": "2021-07-13T12:15:31.894345Z",
          "shell.execute_reply.started": "2021-07-13T12:15:31.883592Z",
          "shell.execute_reply": "2021-07-13T12:15:31.893063Z"
        },
        "trusted": true,
        "id": "75L63oD7gxht"
      },
      "execution_count": null,
      "outputs": []
    },
    {
      "cell_type": "code",
      "source": [
        "def plot_matric(history):\n",
        "    acc = history.history['acc']\n",
        "    loss = history.history['loss']\n",
        "    val_acc = history.history['val_acc']\n",
        "    val_loss = history.history['val_loss']\n",
        "\n",
        "    epochs_range = range(len(acc))\n",
        "\n",
        "    plt.figure(figsize=(8, 8))\n",
        "    plt.subplot(1, 2, 1)\n",
        "    plt.plot(epochs_range, acc, label='Training Accuracy')\n",
        "    plt.plot(epochs_range, val_acc, label='Validation Accuracy')\n",
        "    plt.legend(loc='lower right')\n",
        "    plt.title('Training and Validation Accuracy')\n",
        "\n",
        "    plt.subplot(1, 2, 2)\n",
        "    plt.plot(epochs_range, loss, label='Training Loss')\n",
        "    plt.plot(epochs_range, val_loss, label='Validation Loss')\n",
        "    plt.legend(loc='upper right')\n",
        "    plt.title('Training and Validation Loss')\n",
        "    plt.show()"
      ],
      "metadata": {
        "execution": {
          "iopub.status.busy": "2021-07-13T12:15:35.357092Z",
          "iopub.execute_input": "2021-07-13T12:15:35.357496Z",
          "iopub.status.idle": "2021-07-13T12:15:35.366801Z",
          "shell.execute_reply.started": "2021-07-13T12:15:35.357463Z",
          "shell.execute_reply": "2021-07-13T12:15:35.365115Z"
        },
        "trusted": true,
        "id": "Sqc3w2Uygxht"
      },
      "execution_count": null,
      "outputs": []
    },
    {
      "cell_type": "code",
      "source": [
        "def generate_pred(model, images, true_label,labels):\n",
        "    y_pred = []\n",
        "    count = 0\n",
        "    for file in images:\n",
        "        img = keras.preprocessing.image.load_img(\n",
        "            os.path.join('../input/covrecker2/new_dataset/test', str(file)), target_size=(shape, shape)\n",
        "        )\n",
        "        img_array = keras.preprocessing.image.img_to_array(img)\n",
        "        img_array = tf.expand_dims(img_array, 0) # Create a batch\n",
        "\n",
        "        predictions = model.predict(img_array)\n",
        "        score = tf.nn.softmax(predictions[0])\n",
        "        y_pred.append(labels[np.argmax(score)])\n",
        "\n",
        "        print(\n",
        "            \"{} - Most likely {} with a {:.2f} percent confidence.\"\n",
        "            .format(count+1, labels[np.argmax(score)], 100 * np.max(score))\n",
        "\n",
        "        )\n",
        "        print(file, '\\n')\n",
        "    return true_label, y_pred"
      ],
      "metadata": {
        "execution": {
          "iopub.status.busy": "2021-07-13T12:15:44.115605Z",
          "iopub.execute_input": "2021-07-13T12:15:44.115964Z",
          "iopub.status.idle": "2021-07-13T12:15:44.126172Z",
          "shell.execute_reply.started": "2021-07-13T12:15:44.115933Z",
          "shell.execute_reply": "2021-07-13T12:15:44.123005Z"
        },
        "trusted": true,
        "id": "h7lqQYo5gxht"
      },
      "execution_count": null,
      "outputs": []
    },
    {
      "cell_type": "code",
      "source": [
        "import seaborn as sn\n",
        "import pandas as pd\n",
        "import matplotlib.pyplot as plt\n",
        "from sklearn.metrics import confusion_matrix\n",
        "\n",
        "\n",
        "def plt_conf(labels, tr, pr):\n",
        "    conf_2 = confusion_matrix(tr, pr)\n",
        "    df_cm = pd.DataFrame(conf_2, index = [i for i in labels],\n",
        "                      columns = [i for i in labels])\n",
        "    sn.set(font_scale=1.1)\n",
        "    plt.figure(figsize = (10, 7))\n",
        "    sn.heatmap(df_cm, annot=True)"
      ],
      "metadata": {
        "execution": {
          "iopub.status.busy": "2021-07-13T12:15:46.866596Z",
          "iopub.execute_input": "2021-07-13T12:15:46.866995Z",
          "iopub.status.idle": "2021-07-13T12:15:46.955466Z",
          "shell.execute_reply.started": "2021-07-13T12:15:46.866964Z",
          "shell.execute_reply": "2021-07-13T12:15:46.954553Z"
        },
        "trusted": true,
        "id": "75iWDMRqgxht"
      },
      "execution_count": null,
      "outputs": []
    },
    {
      "cell_type": "code",
      "source": [
        "class_2_df = pd.read_csv('../input/covrecker2/new_dataset/csv/2_CLASS.csv')\n",
        "class_3_df = pd.read_csv('../input/ct-data-x/3_CLASS_CT.csv')\n",
        "class_4_df = pd.read_csv('./4_CLASS.csv')\n",
        "\n",
        "\n",
        "# class_2_df.groupby('labels').count()\n"
      ],
      "metadata": {
        "execution": {
          "iopub.status.busy": "2021-07-13T12:15:51.103275Z",
          "iopub.execute_input": "2021-07-13T12:15:51.103722Z",
          "iopub.status.idle": "2021-07-13T12:15:51.168222Z",
          "shell.execute_reply.started": "2021-07-13T12:15:51.103682Z",
          "shell.execute_reply": "2021-07-13T12:15:51.166874Z"
        },
        "trusted": true,
        "id": "byojtr1xgxht"
      },
      "execution_count": null,
      "outputs": []
    },
    {
      "cell_type": "code",
      "source": [
        "class_3_df.groupby('labels').count()"
      ],
      "metadata": {
        "trusted": true,
        "id": "K1Y-fEgXgxht"
      },
      "execution_count": null,
      "outputs": []
    },
    {
      "cell_type": "code",
      "source": [
        "class_4_df.groupby('labels').count()"
      ],
      "metadata": {
        "execution": {
          "iopub.status.busy": "2021-07-13T12:15:54.244188Z",
          "iopub.execute_input": "2021-07-13T12:15:54.244625Z",
          "iopub.status.idle": "2021-07-13T12:15:54.275718Z",
          "shell.execute_reply.started": "2021-07-13T12:15:54.244587Z",
          "shell.execute_reply": "2021-07-13T12:15:54.274144Z"
        },
        "trusted": true,
        "id": "pT725Vvsgxht"
      },
      "execution_count": null,
      "outputs": []
    },
    {
      "cell_type": "markdown",
      "source": [
        "# RUN ALL TILL HERE"
      ],
      "metadata": {
        "id": "ulog87dRgxhu"
      }
    },
    {
      "cell_type": "code",
      "source": [
        "train_2, val_2 = generate_data(class_2_df, '../input/covrecker2/new_dataset/train')"
      ],
      "metadata": {
        "execution": {
          "iopub.status.busy": "2021-07-08T12:53:48.359531Z",
          "iopub.execute_input": "2021-07-08T12:53:48.359926Z",
          "iopub.status.idle": "2021-07-08T12:53:51.131499Z",
          "shell.execute_reply.started": "2021-07-08T12:53:48.359889Z",
          "shell.execute_reply": "2021-07-08T12:53:51.129425Z"
        },
        "trusted": true,
        "id": "fhgt6dsygxhv"
      },
      "execution_count": null,
      "outputs": []
    },
    {
      "cell_type": "code",
      "source": [
        "# test_df = pd.read_csv('../input/ct-data-x/2_CLASS_CT_TEST.csv')\n",
        "\n",
        "# test_df.head()"
      ],
      "metadata": {
        "trusted": true,
        "id": "HnBu2tJvgxhv"
      },
      "execution_count": null,
      "outputs": []
    },
    {
      "cell_type": "code",
      "source": [
        "# fig = plt.figure()\n",
        "# ax = fig.add_axes([0,0,1,1])\n",
        "# ax.bar(['COVID', 'NORMAL'],[1200, 1341])"
      ],
      "metadata": {
        "trusted": true,
        "id": "5Nx0NKjMgxhv"
      },
      "execution_count": null,
      "outputs": []
    },
    {
      "cell_type": "code",
      "source": [
        "model_2 = create_model(2)"
      ],
      "metadata": {
        "execution": {
          "iopub.status.busy": "2021-07-08T12:53:51.134085Z",
          "iopub.execute_input": "2021-07-08T12:53:51.134602Z",
          "iopub.status.idle": "2021-07-08T12:53:54.545456Z",
          "shell.execute_reply.started": "2021-07-08T12:53:51.134506Z",
          "shell.execute_reply": "2021-07-08T12:53:54.543285Z"
        },
        "trusted": true,
        "id": "hBInvp8rgxhv"
      },
      "execution_count": null,
      "outputs": []
    },
    {
      "cell_type": "code",
      "source": [
        "history_2 = train_model(model_2, train_2, val_2, 2 )"
      ],
      "metadata": {
        "execution": {
          "iopub.status.busy": "2021-07-08T12:53:58.921752Z",
          "iopub.execute_input": "2021-07-08T12:53:58.922212Z",
          "iopub.status.idle": "2021-07-08T13:27:21.198307Z",
          "shell.execute_reply.started": "2021-07-08T12:53:58.922179Z",
          "shell.execute_reply": "2021-07-08T13:27:21.189864Z"
        },
        "trusted": true,
        "id": "Bva2k871gxhv"
      },
      "execution_count": null,
      "outputs": []
    },
    {
      "cell_type": "code",
      "source": [
        "test_df_2 = pd.read_csv('../input/covrecker2/new_dataset/csv/test.csv')\n",
        "true_2, pred_2 = generate_pred(model_2, test_df_2['path'][:29].values, test_df_2['lable'][:29].values,['COVID', 'NORMAL'], )"
      ],
      "metadata": {
        "execution": {
          "iopub.status.busy": "2021-07-08T13:27:21.203453Z",
          "iopub.execute_input": "2021-07-08T13:27:21.203971Z",
          "iopub.status.idle": "2021-07-08T13:27:30.712955Z",
          "shell.execute_reply.started": "2021-07-08T13:27:21.203922Z",
          "shell.execute_reply": "2021-07-08T13:27:30.711046Z"
        },
        "trusted": true,
        "id": "8VPb66rDgxhv"
      },
      "execution_count": null,
      "outputs": []
    },
    {
      "cell_type": "code",
      "source": [
        "print(true_2, pred_2)"
      ],
      "metadata": {
        "trusted": true,
        "id": "Jmzx3-rMgxhv"
      },
      "execution_count": null,
      "outputs": []
    },
    {
      "cell_type": "code",
      "source": [
        "plt_conf(['COVID', 'NORMAL'], true_2, pred_2)"
      ],
      "metadata": {
        "execution": {
          "iopub.status.busy": "2021-07-08T13:27:30.715169Z",
          "iopub.execute_input": "2021-07-08T13:27:30.715703Z",
          "iopub.status.idle": "2021-07-08T13:27:32.101546Z",
          "shell.execute_reply.started": "2021-07-08T13:27:30.715656Z",
          "shell.execute_reply": "2021-07-08T13:27:32.100333Z"
        },
        "trusted": true,
        "id": "6E88s8kRgxhv"
      },
      "execution_count": null,
      "outputs": []
    },
    {
      "cell_type": "code",
      "source": [
        "for file in os.listdir(os.path.join('../input/expdata')):\n",
        "    model = tf.keras.models.load_model('./models/model-2.h5')\n",
        "    labels = ['COVID', 'NORMAL']\n",
        "    img = keras.preprocessing.image.load_img(\n",
        "            os.path.join('../input/expdata', str(file)), target_size=(shape, shape)\n",
        "        )\n",
        "    img_array = keras.preprocessing.image.img_to_array(img)\n",
        "    img_array = tf.expand_dims(img_array, 0) # Create a batch\n",
        "\n",
        "    predictions = model.predict(img_array)\n",
        "    score = tf.nn.softmax(predictions[0])\n",
        "    print(labels[np.argmax(score)])"
      ],
      "metadata": {
        "execution": {
          "iopub.status.busy": "2021-07-08T11:08:38.289738Z",
          "iopub.execute_input": "2021-07-08T11:08:38.291734Z",
          "iopub.status.idle": "2021-07-08T11:08:42.635125Z",
          "shell.execute_reply.started": "2021-07-08T11:08:38.291695Z",
          "shell.execute_reply": "2021-07-08T11:08:42.633216Z"
        },
        "trusted": true,
        "id": "jOPW1XaPgxhv"
      },
      "execution_count": null,
      "outputs": []
    },
    {
      "cell_type": "code",
      "source": [
        "!tensorflowjs_converter --input_format keras \\\n",
        "                       ./models/model-2.h5 \\\n",
        "                       ./models --weight_shard_size_bytes 250000000"
      ],
      "metadata": {
        "execution": {
          "iopub.status.busy": "2021-07-08T13:27:32.106933Z",
          "iopub.execute_input": "2021-07-08T13:27:32.11019Z",
          "iopub.status.idle": "2021-07-08T13:27:33.148174Z",
          "shell.execute_reply.started": "2021-07-08T13:27:32.110135Z",
          "shell.execute_reply": "2021-07-08T13:27:33.146819Z"
        },
        "trusted": true,
        "id": "lHsbIwREgxhv"
      },
      "execution_count": null,
      "outputs": []
    },
    {
      "cell_type": "code",
      "source": [
        "import tensorflowjs as tfjs\n",
        "model = tf.keras.models.load_model('./models/model-2.h5')\n",
        "tfjs.converters.save_keras_model(model, os.path.join('models'))"
      ],
      "metadata": {
        "execution": {
          "iopub.status.busy": "2021-07-08T07:29:25.893058Z",
          "iopub.execute_input": "2021-07-08T07:29:25.89342Z",
          "iopub.status.idle": "2021-07-08T07:29:26.961662Z",
          "shell.execute_reply.started": "2021-07-08T07:29:25.893387Z",
          "shell.execute_reply": "2021-07-08T07:29:26.960862Z"
        },
        "trusted": true,
        "id": "z5Qh0elHgxhv"
      },
      "execution_count": null,
      "outputs": []
    },
    {
      "cell_type": "code",
      "source": [
        "from sklearn.metrics import confusion_matrix\n",
        "x = confusion_matrix(true_2, pred_2, labels=['COVID', 'NORMAL']).ravel()\n",
        "TN = x[0]\n",
        "FP = x[1]\n",
        "FN = x[2]\n",
        "TP = x[3]\n",
        "\n",
        "sp = TN/(TN+FP)\n",
        "sn = TP/(TP+FN) # RECALL\n",
        "acc = (TP+TN)/(TP+TN+FP+FN)\n",
        "pr = TP/ (TP +FP)\n",
        "f1 = 2*(pr * sn) / (pr+ sn)\n",
        "\n",
        "print('Specificity ', sp, '\\n', 'Sencitivity ', sn, '\\n', 'Accurecy ', acc, '\\n', 'Percision ', pr, '\\n', 'F1 ', f1, )"
      ],
      "metadata": {
        "execution": {
          "iopub.status.busy": "2021-05-31T19:54:34.579892Z",
          "iopub.execute_input": "2021-05-31T19:54:34.580242Z",
          "iopub.status.idle": "2021-05-31T19:54:34.592787Z",
          "shell.execute_reply.started": "2021-05-31T19:54:34.580205Z",
          "shell.execute_reply": "2021-05-31T19:54:34.592031Z"
        },
        "trusted": true,
        "id": "TslYO9GGgxhv"
      },
      "execution_count": null,
      "outputs": []
    },
    {
      "cell_type": "code",
      "source": [
        "with open('report.txt','w') as fh:\n",
        "    # Pass the file handle in as a lambda function to make it callable\n",
        "    model_2._name = 'CoroPy'\n",
        "    for layer in model_2.layers:\n",
        "        layer._name = layer._name + '_coro_py'\n",
        "    model_2.summary(print_fn=lambda x: fh.write(x + '\\n'))"
      ],
      "metadata": {
        "execution": {
          "iopub.status.busy": "2021-06-14T15:48:35.399211Z",
          "iopub.execute_input": "2021-06-14T15:48:35.399533Z",
          "iopub.status.idle": "2021-06-14T15:48:35.410051Z",
          "shell.execute_reply.started": "2021-06-14T15:48:35.399498Z",
          "shell.execute_reply": "2021-06-14T15:48:35.409272Z"
        },
        "trusted": true,
        "id": "rhq9D99xgxhw"
      },
      "execution_count": null,
      "outputs": []
    },
    {
      "cell_type": "code",
      "source": [
        "plot_matric(history_2)"
      ],
      "metadata": {
        "execution": {
          "iopub.status.busy": "2021-05-31T15:51:25.900045Z",
          "iopub.execute_input": "2021-05-31T15:51:25.900395Z",
          "iopub.status.idle": "2021-05-31T15:51:26.214861Z",
          "shell.execute_reply.started": "2021-05-31T15:51:25.900342Z",
          "shell.execute_reply": "2021-05-31T15:51:26.214144Z"
        },
        "trusted": true,
        "id": "O-aHAx-ngxhw"
      },
      "execution_count": null,
      "outputs": []
    },
    {
      "cell_type": "code",
      "source": [
        "model_3 = create_model(3)\n",
        "train_3, val_3 = generate_data(class_3_df, '../input/ct-data-x/CTTRAIN')"
      ],
      "metadata": {
        "execution": {
          "iopub.status.busy": "2021-05-31T20:19:42.210744Z",
          "iopub.execute_input": "2021-05-31T20:19:42.211089Z",
          "iopub.status.idle": "2021-05-31T20:19:44.891263Z",
          "shell.execute_reply.started": "2021-05-31T20:19:42.211044Z",
          "shell.execute_reply": "2021-05-31T20:19:44.890498Z"
        },
        "trusted": true,
        "id": "Eeu1_o_Ngxhw"
      },
      "execution_count": null,
      "outputs": []
    },
    {
      "cell_type": "code",
      "source": [
        "history_3 = train_model(model_3, train_3, val_3 , 3)"
      ],
      "metadata": {
        "execution": {
          "iopub.status.busy": "2021-05-31T20:19:45.360862Z",
          "iopub.execute_input": "2021-05-31T20:19:45.361204Z",
          "iopub.status.idle": "2021-05-31T20:22:56.878149Z",
          "shell.execute_reply.started": "2021-05-31T20:19:45.361165Z",
          "shell.execute_reply": "2021-05-31T20:22:56.876628Z"
        },
        "trusted": true,
        "id": "qRwCpTjCgxhw"
      },
      "execution_count": null,
      "outputs": []
    },
    {
      "cell_type": "code",
      "source": [
        "test_df_3 = pd.read_csv('../input/ct-data-x/3_CLASS_CT_TEST.csv')\n",
        "\n",
        "true_3, pred_3 = generate_pred(model_3, test_df_3['path'].values, test_df_3['labels'].values,['COVID', 'NORMAL', 'VIRAL_PNEUMONIA'], )"
      ],
      "metadata": {
        "execution": {
          "iopub.status.busy": "2021-05-31T20:22:56.962725Z",
          "iopub.execute_input": "2021-05-31T20:22:56.965299Z",
          "iopub.status.idle": "2021-05-31T20:23:02.806388Z",
          "shell.execute_reply.started": "2021-05-31T20:22:56.96525Z",
          "shell.execute_reply": "2021-05-31T20:23:02.804899Z"
        },
        "trusted": true,
        "id": "_b5cmGqogxhw"
      },
      "execution_count": null,
      "outputs": []
    },
    {
      "cell_type": "code",
      "source": [
        "print(true_3, pred_3)"
      ],
      "metadata": {
        "trusted": true,
        "id": "wRQpHksBgxhw"
      },
      "execution_count": null,
      "outputs": []
    },
    {
      "cell_type": "code",
      "source": [
        "plt_conf(['COVID', 'NORMAL', 'VIRAL_PNEUMONIA'], true_3, pred_3)"
      ],
      "metadata": {
        "trusted": true,
        "id": "YGenM4mYgxhw"
      },
      "execution_count": null,
      "outputs": []
    },
    {
      "cell_type": "code",
      "source": [
        "from sklearn.metrics import confusion_matrix\n",
        "x = confusion_matrix(true_3, pred_3, labels=['COVID', 'NORMAL', 'VIRAL_PNEUMONIA']).ravel()\n",
        "TN = x[0]\n",
        "FP = x[1]\n",
        "FN = x[2]\n",
        "TP = x[3]\n",
        "sp = TN/(TN+FP)\n",
        "sn = TP/(TP+FN) # RECALL\n",
        "acc = (TP+TN)/(TP+TN+FP+FN)\n",
        "pr = TP/ (TP +FP)\n",
        "f1 = 2*(pr * sn) / (pr+ sn)\n",
        "\n",
        "print('Specificity ', sp, '\\n', 'Sencitivity ', sn, '\\n', 'Accurecy ', acc, '\\n', 'Percision ', pr, '\\n', 'F1 ', f1, )"
      ],
      "metadata": {
        "execution": {
          "iopub.status.busy": "2021-05-31T20:23:02.807683Z",
          "iopub.execute_input": "2021-05-31T20:23:02.808018Z",
          "iopub.status.idle": "2021-05-31T20:23:02.819652Z",
          "shell.execute_reply.started": "2021-05-31T20:23:02.80799Z",
          "shell.execute_reply": "2021-05-31T20:23:02.818697Z"
        },
        "trusted": true,
        "id": "PHnMB2P1gxh2"
      },
      "execution_count": null,
      "outputs": []
    },
    {
      "cell_type": "code",
      "source": [
        "plot_matric(history_3)"
      ],
      "metadata": {
        "trusted": true,
        "id": "81WSfcsAgxh2"
      },
      "execution_count": null,
      "outputs": []
    },
    {
      "cell_type": "code",
      "source": [
        "model_4 = create_model(4)"
      ],
      "metadata": {
        "execution": {
          "iopub.status.busy": "2021-07-13T12:25:38.815052Z",
          "iopub.execute_input": "2021-07-13T12:25:38.815428Z",
          "iopub.status.idle": "2021-07-13T12:25:39.259856Z",
          "shell.execute_reply.started": "2021-07-13T12:25:38.815394Z",
          "shell.execute_reply": "2021-07-13T12:25:39.258812Z"
        },
        "trusted": true,
        "id": "jQEz3oDggxh2"
      },
      "execution_count": null,
      "outputs": []
    },
    {
      "cell_type": "code",
      "source": [
        "train_4, val_4 = generate_data(class_4_df, '../input/covrecker2/new_dataset/train')"
      ],
      "metadata": {
        "execution": {
          "iopub.status.busy": "2021-07-13T12:25:45.635396Z",
          "iopub.execute_input": "2021-07-13T12:25:45.635789Z",
          "iopub.status.idle": "2021-07-13T12:25:46.782285Z",
          "shell.execute_reply.started": "2021-07-13T12:25:45.635758Z",
          "shell.execute_reply": "2021-07-13T12:25:46.781051Z"
        },
        "trusted": true,
        "id": "LysEfa5Ggxh2"
      },
      "execution_count": null,
      "outputs": []
    },
    {
      "cell_type": "code",
      "source": [
        "history_4 = train_model(model_4, train_4, val_4, 4 )"
      ],
      "metadata": {
        "execution": {
          "iopub.status.busy": "2021-07-13T12:25:49.572113Z",
          "iopub.execute_input": "2021-07-13T12:25:49.572528Z",
          "iopub.status.idle": "2021-07-13T13:41:53.493334Z",
          "shell.execute_reply.started": "2021-07-13T12:25:49.572497Z",
          "shell.execute_reply": "2021-07-13T13:41:53.491755Z"
        },
        "trusted": true,
        "id": "zTrtJNmugxh2"
      },
      "execution_count": null,
      "outputs": []
    },
    {
      "cell_type": "code",
      "source": [
        "md = tf.keras.models.load_model('./models/model-4.h5')\n",
        "# md = model_4\n",
        "test_df_4 = pd.read_csv('../input/test-csv/test.csv')\n",
        "true_4, pred_4 = generate_pred(md, test_df_4['path'].values, test_df_4['labels'].values, [\"COVID\", \"NORMAL\", \"PNEUMONIA_VIRAL\", \"PNEUMONIA_BACTERIA\"])"
      ],
      "metadata": {
        "execution": {
          "iopub.status.busy": "2021-07-13T13:41:53.500589Z",
          "iopub.execute_input": "2021-07-13T13:41:53.535888Z",
          "iopub.status.idle": "2021-07-13T13:42:08.236028Z",
          "shell.execute_reply.started": "2021-07-13T13:41:53.53582Z",
          "shell.execute_reply": "2021-07-13T13:42:08.234152Z"
        },
        "trusted": true,
        "id": "zdxtemwygxh3"
      },
      "execution_count": null,
      "outputs": []
    },
    {
      "cell_type": "code",
      "source": [
        "print(true_4)"
      ],
      "metadata": {
        "execution": {
          "iopub.status.busy": "2021-06-27T12:23:54.643636Z",
          "iopub.execute_input": "2021-06-27T12:23:54.644273Z",
          "iopub.status.idle": "2021-06-27T12:23:54.651258Z",
          "shell.execute_reply.started": "2021-06-27T12:23:54.644194Z",
          "shell.execute_reply": "2021-06-27T12:23:54.650221Z"
        },
        "trusted": true,
        "id": "KQQThjyHgxh3"
      },
      "execution_count": null,
      "outputs": []
    },
    {
      "cell_type": "code",
      "source": [
        "plt_conf(['COVID', 'NORMAL', 'VIRAL_PNEUMONIA','BACTERIAL_PNEUMONIA'], true_4, pred_4)"
      ],
      "metadata": {
        "execution": {
          "iopub.status.busy": "2021-07-13T13:42:08.238165Z",
          "iopub.execute_input": "2021-07-13T13:42:08.238711Z",
          "iopub.status.idle": "2021-07-13T13:42:08.663866Z",
          "shell.execute_reply.started": "2021-07-13T13:42:08.238641Z",
          "shell.execute_reply": "2021-07-13T13:42:08.662817Z"
        },
        "trusted": true,
        "id": "RqAzCMiRgxh3"
      },
      "execution_count": null,
      "outputs": []
    },
    {
      "cell_type": "code",
      "source": [
        "acc = history_4.history['acc']\n",
        "val_acc = history_4.history['val_acc']\n",
        "\n",
        "print('Max ACC, ', max(acc)*100, '% ', '\\nVAL ACC, ', max(val_acc)*100, '%')"
      ],
      "metadata": {
        "execution": {
          "iopub.status.busy": "2021-07-13T13:42:08.665978Z",
          "iopub.execute_input": "2021-07-13T13:42:08.666275Z",
          "iopub.status.idle": "2021-07-13T13:42:08.675209Z",
          "shell.execute_reply.started": "2021-07-13T13:42:08.666247Z",
          "shell.execute_reply": "2021-07-13T13:42:08.673796Z"
        },
        "trusted": true,
        "id": "Qf2ABUwzgxh3"
      },
      "execution_count": null,
      "outputs": []
    },
    {
      "cell_type": "code",
      "source": [
        "plot_matric(history_4)"
      ],
      "metadata": {
        "trusted": true,
        "id": "VO_twn1agxh3"
      },
      "execution_count": null,
      "outputs": []
    },
    {
      "cell_type": "markdown",
      "source": [
        "# KFOLD"
      ],
      "metadata": {
        "id": "Uyaha7I8gxh3"
      }
    },
    {
      "cell_type": "code",
      "source": [
        "from sklearn.metrics import confusion_matrix\n",
        "\n",
        "def get_metrics(true, pred, cols):\n",
        "    x = confusion_matrix(true, pred, labels=cols).ravel()\n",
        "    TN = x[0]\n",
        "    FP = x[1]\n",
        "    FN = x[2]\n",
        "    TP = x[3]\n",
        "    sp = TN/(TN+FP)\n",
        "    sn = TP/(TP+FN) # RECALL\n",
        "    acc = (TP+TN)/(TP+TN+FP+FN)\n",
        "    pr = TP/ (TP +FP)\n",
        "    f1 = 2*(pr * sn) / (pr+ sn)\n",
        "\n",
        "    print('Specificity ', sp, '\\n', 'Sencitivity ', sn, '\\n', 'Accurecy ', acc, '\\n', 'Percision ', pr, '\\n', 'F1 ', f1, )"
      ],
      "metadata": {
        "execution": {
          "iopub.status.busy": "2021-05-30T18:40:35.184766Z",
          "iopub.execute_input": "2021-05-30T18:40:35.185383Z",
          "iopub.status.idle": "2021-05-30T18:40:35.198725Z",
          "shell.execute_reply.started": "2021-05-30T18:40:35.185333Z",
          "shell.execute_reply": "2021-05-30T18:40:35.197434Z"
        },
        "trusted": true,
        "id": "SYa1zDbtgxh3"
      },
      "execution_count": null,
      "outputs": []
    },
    {
      "cell_type": "code",
      "source": [
        "def generate_data_2(tr, val, data_dir):\n",
        "    train_datagen = keras.preprocessing.image.ImageDataGenerator(\n",
        "                            horizontal_flip=True,\n",
        "                            vertical_flip=True,\n",
        "                            rotation_range=20,\n",
        "                            shear_range=20,\n",
        "                            zoom_range=0.2,\n",
        "                            height_shift_range=0.3,\n",
        "                            width_shift_range=0.3,\n",
        "                        )\n",
        "\n",
        "    train_imagegen = train_datagen.flow_from_dataframe(\n",
        "                            tr,\n",
        "                            directory=data_dir,\n",
        "                            x_col='path',\n",
        "                            y_col='labels',\n",
        "                            target_size=(shape, shape),\n",
        "                            batch_size = 32,\n",
        "#                             validate_filenames=False\n",
        "                        )\n",
        "    valid_datagen = keras.preprocessing.image.ImageDataGenerator()\n",
        "\n",
        "    valid_imagegen = valid_datagen.flow_from_dataframe(\n",
        "                            val,\n",
        "                            directory=data_dir,\n",
        "                            x_col='path',\n",
        "                            y_col='labels',\n",
        "                            target_size=(shape, shape),\n",
        "                            batch_size = 32,\n",
        "#                             validate_filenames=False\n",
        "                        )\n",
        "    return train_imagegen, valid_imagegen"
      ],
      "metadata": {
        "execution": {
          "iopub.status.busy": "2021-05-30T18:40:37.324807Z",
          "iopub.execute_input": "2021-05-30T18:40:37.325299Z",
          "iopub.status.idle": "2021-05-30T18:40:37.334647Z",
          "shell.execute_reply.started": "2021-05-30T18:40:37.325243Z",
          "shell.execute_reply": "2021-05-30T18:40:37.332845Z"
        },
        "trusted": true,
        "id": "WnMisiYAgxh3"
      },
      "execution_count": null,
      "outputs": []
    },
    {
      "cell_type": "code",
      "source": [
        "from sklearn.model_selection import KFold\n",
        "\n",
        "fold = KFold(n_splits=5, shuffle=True, random_state=1)\n",
        "train_index = []\n",
        "vald_index = []\n",
        "df = class_2_df.sample(frac=1).reset_index(drop=True)\n",
        "for tr_index, val_index in fold.split(df):\n",
        "    train_index.append(tr_index)\n",
        "    vald_index.append(val_index)"
      ],
      "metadata": {
        "execution": {
          "iopub.status.busy": "2021-05-30T18:40:40.301192Z",
          "iopub.execute_input": "2021-05-30T18:40:40.301677Z",
          "iopub.status.idle": "2021-05-30T18:40:40.334944Z",
          "shell.execute_reply.started": "2021-05-30T18:40:40.301641Z",
          "shell.execute_reply": "2021-05-30T18:40:40.333829Z"
        },
        "trusted": true,
        "id": "MC_-4ynrgxh3"
      },
      "execution_count": null,
      "outputs": []
    },
    {
      "cell_type": "markdown",
      "source": [
        "# Fold 1 2 CLass"
      ],
      "metadata": {
        "id": "fUIT0kPogxh3"
      }
    },
    {
      "cell_type": "code",
      "source": [
        "print('FOLD 2')\n",
        "train = df.iloc[train_index[4]]\n",
        "\n",
        "val = df.iloc[vald_index[4]]\n",
        "#     data = pd.concat([train, val], ignore_index=True)\n",
        "train_data, val_data = generate_data_2(train, val, '../input/ct-data-x/CTTRAIN')\n",
        "# model_2_f1 = create_model(2)\n",
        "model_2_f1 = tf.keras.models.load_model('./models/model-2.h5')\n",
        "\n",
        "history_2_f1 = train_model(model_2_f1, train_data, val_data, 2 )"
      ],
      "metadata": {
        "execution": {
          "iopub.status.busy": "2021-05-30T19:48:11.123945Z",
          "iopub.execute_input": "2021-05-30T19:48:11.124556Z",
          "iopub.status.idle": "2021-05-30T19:58:49.796514Z",
          "shell.execute_reply.started": "2021-05-30T19:48:11.124504Z",
          "shell.execute_reply": "2021-05-30T19:58:49.792142Z"
        },
        "trusted": true,
        "id": "q3lxGxaCgxh3"
      },
      "execution_count": null,
      "outputs": []
    },
    {
      "cell_type": "code",
      "source": [
        "# history = []\n",
        "# for i in range(len(train_index)):\n",
        "#     print('fold ', i)\n",
        "\n",
        "#     train = df.iloc[train_index[i]]\n",
        "\n",
        "#     val = df.iloc[vald_index[i]]\n",
        "# #     data = pd.concat([train, val], ignore_index=True)\n",
        "#     train_data, val_data = generate_data_2(train, val, '../input/covrecker2/new_dataset/train')\n",
        "#     model_2 = create_model(2)\n",
        "\n",
        "#     history_2 = train_model(model_2, train_data, val_data, 2 )\n",
        "#     history.append(history_2)\n",
        "\n",
        "\n"
      ],
      "metadata": {
        "_kg_hide-output": true,
        "trusted": true,
        "id": "rRXnAgI-gxh4"
      },
      "execution_count": null,
      "outputs": []
    },
    {
      "cell_type": "code",
      "source": [
        "test_df_2 = pd.read_csv('../input/ct-data-x/2_CLASS_CT_TEST.csv')\n",
        "true_2, pred_2 = generate_pred(model_2_f1, test_df_2['path'].values, test_df_2['labels'].values,['COVID', 'NORMAL', ], )"
      ],
      "metadata": {
        "execution": {
          "iopub.status.busy": "2021-05-30T19:58:49.805885Z",
          "iopub.execute_input": "2021-05-30T19:58:49.821657Z",
          "iopub.status.idle": "2021-05-30T19:58:53.309332Z",
          "shell.execute_reply.started": "2021-05-30T19:58:49.821589Z",
          "shell.execute_reply": "2021-05-30T19:58:53.30807Z"
        },
        "trusted": true,
        "id": "mWYv2ZLAgxh4"
      },
      "execution_count": null,
      "outputs": []
    },
    {
      "cell_type": "code",
      "source": [
        "plt_conf(['COVID', 'NORMAL',], true_2, pred_2)"
      ],
      "metadata": {
        "execution": {
          "iopub.status.busy": "2021-05-30T19:58:53.311031Z",
          "iopub.execute_input": "2021-05-30T19:58:53.311519Z",
          "iopub.status.idle": "2021-05-30T19:58:53.720594Z",
          "shell.execute_reply.started": "2021-05-30T19:58:53.311477Z",
          "shell.execute_reply": "2021-05-30T19:58:53.719543Z"
        },
        "trusted": true,
        "id": "xyet0Jqkgxh4"
      },
      "execution_count": null,
      "outputs": []
    },
    {
      "cell_type": "code",
      "source": [
        "# for i in history:\n",
        "plot_matric(history_2_f1)"
      ],
      "metadata": {
        "execution": {
          "iopub.status.busy": "2021-05-30T19:58:53.722479Z",
          "iopub.execute_input": "2021-05-30T19:58:53.722858Z",
          "iopub.status.idle": "2021-05-30T19:58:54.185858Z",
          "shell.execute_reply.started": "2021-05-30T19:58:53.722812Z",
          "shell.execute_reply": "2021-05-30T19:58:54.184591Z"
        },
        "trusted": true,
        "id": "EXv1NOa-gxh4"
      },
      "execution_count": null,
      "outputs": []
    },
    {
      "cell_type": "code",
      "source": [
        "get_metrics(true_2, pred_2, ['COVID', 'NORMAL',])"
      ],
      "metadata": {
        "execution": {
          "iopub.status.busy": "2021-05-30T19:58:54.188594Z",
          "iopub.execute_input": "2021-05-30T19:58:54.189394Z",
          "iopub.status.idle": "2021-05-30T19:58:54.201914Z",
          "shell.execute_reply.started": "2021-05-30T19:58:54.189348Z",
          "shell.execute_reply": "2021-05-30T19:58:54.199847Z"
        },
        "trusted": true,
        "id": "rLMU3kLvgxh4"
      },
      "execution_count": null,
      "outputs": []
    },
    {
      "cell_type": "code",
      "source": [
        "# from sklearn.model_selection import KFold\n",
        "\n",
        "# train_index = []\n",
        "# vald_index = []\n",
        "# fold = KFold(n_splits=5, shuffle=True, random_state=1)\n",
        "# df_3 = class_3_df.sample(frac=1).reset_index(drop=True)\n",
        "# for tr_index, val_index in fold.split(df_3):\n",
        "#     train_index.append(tr_index)\n",
        "#     vald_index.append(val_index)"
      ],
      "metadata": {
        "trusted": true,
        "id": "e8jNCsdfgxh4"
      },
      "execution_count": null,
      "outputs": []
    },
    {
      "cell_type": "code",
      "source": [
        "# history_3 = []\n",
        "# for i in range(len(train_index)):\n",
        "#     print('fold ', i)\n",
        "\n",
        "#     train = df_3.iloc[train_index[i]]\n",
        "#     val = df_3.iloc[vald_index[i]]\n",
        "# #     data = pd.concat([train, val], ignore_index=True)\n",
        "#     train_data, val_data = generate_data_2(train, val, '../input/covrecker2/new_dataset/train')\n",
        "#     model_3 = create_model(3)\n",
        "#     history = train_model(model_3, train_data, val_data, 3 )\n",
        "#     history_3.append(history)"
      ],
      "metadata": {
        "trusted": true,
        "id": "JKbPNPZ1gxh4"
      },
      "execution_count": null,
      "outputs": []
    },
    {
      "cell_type": "code",
      "source": [
        "# model_3 = tf.keras.models.load_model('../input/model33/model-3.h5')\n",
        "# test_df_3 = pd.read_csv('../input/test-csv/test.csv')\n",
        "\n",
        "# true_3, pred_3 = generate_pred(model_3, test_df_3[:44]['path'].values, test_df_3[:44]['labels'].values,['COVID', 'NORMAL', 'PNEUMONIA_VIRAL'], )"
      ],
      "metadata": {
        "trusted": true,
        "id": "QZai2jcdgxh4"
      },
      "execution_count": null,
      "outputs": []
    },
    {
      "cell_type": "code",
      "source": [
        "# plt_conf(['COVID', 'NORMAL', 'PNEUMONIA_VIRAL'], true_3, pred_3)"
      ],
      "metadata": {
        "trusted": true,
        "id": "q36zBUQrgxh4"
      },
      "execution_count": null,
      "outputs": []
    },
    {
      "cell_type": "code",
      "source": [
        "# for i in history_3:\n",
        "#     plot_matric(i)"
      ],
      "metadata": {
        "trusted": true,
        "id": "g1pJLZ6Zgxh4"
      },
      "execution_count": null,
      "outputs": []
    },
    {
      "cell_type": "code",
      "source": [
        "from sklearn.model_selection import KFold\n",
        "\n",
        "train_index = []\n",
        "vald_index = []\n",
        "fold = KFold(n_splits=5, shuffle=True, random_state=1)\n",
        "df_4 = class_4_df.sample(frac=1).reset_index(drop=True)\n",
        "for tr_index, val_index in fold.split(df_4):\n",
        "    train_index.append(tr_index)\n",
        "    vald_index.append(val_index)"
      ],
      "metadata": {
        "trusted": true,
        "id": "-slzr7Wegxh4"
      },
      "execution_count": null,
      "outputs": []
    },
    {
      "cell_type": "code",
      "source": [
        "history_4 = []\n",
        "for i in range(len(train_index)):\n",
        "    print('fold ', i)\n",
        "    train = df_4.iloc[train_index[i]]\n",
        "    val = df_4.iloc[vald_index[i]]\n",
        "#     data = pd.concat([train, val], ignore_index=True)\n",
        "    train_data, val_data = generate_data_2(train, val, '../input/covrecker2/new_dataset/train')\n",
        "    model_4 = create_model(4)\n",
        "    history = train_model(model_4, train_data, val_data, 4 )\n",
        "    history_4.append(history)\n",
        "    model_4 = tf.keras.models.load_model('../input/model44/model-4.h5')\n",
        "    test_df_4 = pd.read_csv('../input/test-csv/test.csv')\n",
        "\n",
        "    true_4, pred_4 = generate_pred(model_4, test_df_4[:59]['path'].values, test_df_4[:59]['labels'].values, [\"COVID\", \"NORMAL\", \"PNEUMONIA_VIRAL\", \"PNEUMONIA_BACTERIA\"])\n",
        "    plt_conf(['COVID', 'NORMAL', 'PNEUMONIA_VIRIAL','PNEUMONIA_BACTERIA'], true_4, pred_4)"
      ],
      "metadata": {
        "trusted": true,
        "id": "VQnHUnOTgxh5"
      },
      "execution_count": null,
      "outputs": []
    },
    {
      "cell_type": "code",
      "source": [],
      "metadata": {
        "trusted": true,
        "id": "e_nKfwPDgxh5"
      },
      "execution_count": null,
      "outputs": []
    },
    {
      "cell_type": "code",
      "source": [
        "# plt_conf(['COVID', 'NORMAL', 'PNEUMONIA_VIRIAL','PNEUMONIA_BACTERIA'], true_4, pred_4)"
      ],
      "metadata": {
        "trusted": true,
        "id": "-rYQdD9Cgxh5"
      },
      "execution_count": null,
      "outputs": []
    },
    {
      "cell_type": "code",
      "source": [
        "for i in history_4:\n",
        "    plot_matric(i)"
      ],
      "metadata": {
        "trusted": true,
        "id": "vrZIXLJogxh5"
      },
      "execution_count": null,
      "outputs": []
    }
  ]
}